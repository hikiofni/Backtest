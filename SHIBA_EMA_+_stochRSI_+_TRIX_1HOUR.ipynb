{
  "nbformat": 4,
  "nbformat_minor": 0,
  "metadata": {
    "colab": {
      "name": "Copie de C98 de Cross EMA + stoch RSI + TRIX - TrueStrategy#1.ipynb",
      "provenance": [],
      "collapsed_sections": [],
      "include_colab_link": true
    },
    "kernelspec": {
      "name": "python3",
      "display_name": "Python 3"
    },
    "language_info": {
      "name": "python"
    }
  },
  "cells": [
    {
      "cell_type": "markdown",
      "metadata": {
        "id": "view-in-github",
        "colab_type": "text"
      },
      "source": [
        "<a href=\"https://colab.research.google.com/github/hikiofni/Backtest/blob/main/SHIBA_EMA_%2B_stochRSI_%2B_TRIX_1HOUR.ipynb\" target=\"_parent\"><img src=\"https://colab.research.google.com/assets/colab-badge.svg\" alt=\"Open In Colab\"/></a>"
      ]
    },
    {
      "cell_type": "code",
      "metadata": {
        "id": "Yfi2qr-OmHJb",
        "colab": {
          "base_uri": "https://localhost:8080/"
        },
        "outputId": "c1d37317-12c8-48ac-fd00-146c752924f2"
      },
      "source": [
        "pip install python-binance"
      ],
      "execution_count": null,
      "outputs": [
        {
          "output_type": "stream",
          "name": "stdout",
          "text": [
            "Collecting python-binance\n",
            "  Downloading python_binance-1.0.15-py2.py3-none-any.whl (63 kB)\n",
            "\u001b[K     |████████████████████████████████| 63 kB 2.3 MB/s \n",
            "\u001b[?25hCollecting aiohttp\n",
            "  Downloading aiohttp-3.7.4.post0-cp37-cp37m-manylinux2014_x86_64.whl (1.3 MB)\n",
            "\u001b[K     |████████████████████████████████| 1.3 MB 39.2 MB/s \n",
            "\u001b[?25hRequirement already satisfied: six in /usr/local/lib/python3.7/dist-packages (from python-binance) (1.15.0)\n",
            "Requirement already satisfied: requests in /usr/local/lib/python3.7/dist-packages (from python-binance) (2.23.0)\n",
            "Collecting dateparser\n",
            "  Downloading dateparser-1.1.0-py2.py3-none-any.whl (288 kB)\n",
            "\u001b[K     |████████████████████████████████| 288 kB 50.2 MB/s \n",
            "\u001b[?25hCollecting ujson\n",
            "  Downloading ujson-4.2.0-cp37-cp37m-manylinux_2_17_x86_64.manylinux2014_x86_64.whl (214 kB)\n",
            "\u001b[K     |████████████████████████████████| 214 kB 52.0 MB/s \n",
            "\u001b[?25hCollecting websockets==9.1\n",
            "  Downloading websockets-9.1-cp37-cp37m-manylinux2010_x86_64.whl (103 kB)\n",
            "\u001b[K     |████████████████████████████████| 103 kB 62.0 MB/s \n",
            "\u001b[?25hCollecting multidict<7.0,>=4.5\n",
            "  Downloading multidict-5.2.0-cp37-cp37m-manylinux_2_5_x86_64.manylinux1_x86_64.manylinux_2_12_x86_64.manylinux2010_x86_64.whl (160 kB)\n",
            "\u001b[K     |████████████████████████████████| 160 kB 54.7 MB/s \n",
            "\u001b[?25hRequirement already satisfied: typing-extensions>=3.6.5 in /usr/local/lib/python3.7/dist-packages (from aiohttp->python-binance) (3.7.4.3)\n",
            "Requirement already satisfied: attrs>=17.3.0 in /usr/local/lib/python3.7/dist-packages (from aiohttp->python-binance) (21.2.0)\n",
            "Collecting async-timeout<4.0,>=3.0\n",
            "  Downloading async_timeout-3.0.1-py3-none-any.whl (8.2 kB)\n",
            "Requirement already satisfied: chardet<5.0,>=2.0 in /usr/local/lib/python3.7/dist-packages (from aiohttp->python-binance) (3.0.4)\n",
            "Collecting yarl<2.0,>=1.0\n",
            "  Downloading yarl-1.7.0-cp37-cp37m-manylinux_2_5_x86_64.manylinux1_x86_64.manylinux_2_12_x86_64.manylinux2010_x86_64.whl (271 kB)\n",
            "\u001b[K     |████████████████████████████████| 271 kB 50.2 MB/s \n",
            "\u001b[?25hRequirement already satisfied: idna>=2.0 in /usr/local/lib/python3.7/dist-packages (from yarl<2.0,>=1.0->aiohttp->python-binance) (2.10)\n",
            "Requirement already satisfied: regex!=2019.02.19,!=2021.8.27 in /usr/local/lib/python3.7/dist-packages (from dateparser->python-binance) (2019.12.20)\n",
            "Requirement already satisfied: pytz in /usr/local/lib/python3.7/dist-packages (from dateparser->python-binance) (2018.9)\n",
            "Requirement already satisfied: tzlocal in /usr/local/lib/python3.7/dist-packages (from dateparser->python-binance) (1.5.1)\n",
            "Requirement already satisfied: python-dateutil in /usr/local/lib/python3.7/dist-packages (from dateparser->python-binance) (2.8.2)\n",
            "Requirement already satisfied: certifi>=2017.4.17 in /usr/local/lib/python3.7/dist-packages (from requests->python-binance) (2021.5.30)\n",
            "Requirement already satisfied: urllib3!=1.25.0,!=1.25.1,<1.26,>=1.21.1 in /usr/local/lib/python3.7/dist-packages (from requests->python-binance) (1.24.3)\n",
            "Installing collected packages: multidict, yarl, async-timeout, websockets, ujson, dateparser, aiohttp, python-binance\n",
            "Successfully installed aiohttp-3.7.4.post0 async-timeout-3.0.1 dateparser-1.1.0 multidict-5.2.0 python-binance-1.0.15 ujson-4.2.0 websockets-9.1 yarl-1.7.0\n"
          ]
        }
      ]
    },
    {
      "cell_type": "code",
      "metadata": {
        "id": "GSVP99iMmTt4",
        "colab": {
          "base_uri": "https://localhost:8080/"
        },
        "outputId": "30d804a4-21ef-4a10-da8a-a94326a170db"
      },
      "source": [
        "pip install ta"
      ],
      "execution_count": null,
      "outputs": [
        {
          "output_type": "stream",
          "name": "stdout",
          "text": [
            "Collecting ta\n",
            "  Downloading ta-0.7.0.tar.gz (25 kB)\n",
            "Requirement already satisfied: numpy in /usr/local/lib/python3.7/dist-packages (from ta) (1.19.5)\n",
            "Requirement already satisfied: pandas in /usr/local/lib/python3.7/dist-packages (from ta) (1.1.5)\n",
            "Requirement already satisfied: python-dateutil>=2.7.3 in /usr/local/lib/python3.7/dist-packages (from pandas->ta) (2.8.2)\n",
            "Requirement already satisfied: pytz>=2017.2 in /usr/local/lib/python3.7/dist-packages (from pandas->ta) (2018.9)\n",
            "Requirement already satisfied: six>=1.5 in /usr/local/lib/python3.7/dist-packages (from python-dateutil>=2.7.3->pandas->ta) (1.15.0)\n",
            "Building wheels for collected packages: ta\n",
            "  Building wheel for ta (setup.py) ... \u001b[?25l\u001b[?25hdone\n",
            "  Created wheel for ta: filename=ta-0.7.0-py3-none-any.whl size=28718 sha256=2b8f3d88aa1f9d8d8a9a116603989248506b9ad74a1fb05dc51eb3d50584ca1c\n",
            "  Stored in directory: /root/.cache/pip/wheels/5e/74/e0/72395003bd1d3c8f3f5860c2d180ff15699e47a2733d8ebd38\n",
            "Successfully built ta\n",
            "Installing collected packages: ta\n",
            "Successfully installed ta-0.7.0\n"
          ]
        }
      ]
    },
    {
      "cell_type": "markdown",
      "metadata": {
        "id": "XwM1VV4d2V-R"
      },
      "source": [
        "<h1>Import Dataset</h1>"
      ]
    },
    {
      "cell_type": "code",
      "metadata": {
        "colab": {
          "base_uri": "https://localhost:8080/"
        },
        "id": "1F0pok5BmY3X",
        "outputId": "3f4833a6-f339-4a2a-987d-31084b7b9031"
      },
      "source": [
        "import pandas as pd\n",
        "from binance.client import Client\n",
        "import ta\n",
        "import matplotlib.pyplot as plt\n",
        "import numpy as np\n",
        "\n",
        "client = Client()\n",
        "\n",
        "klinesT = client.get_historical_klines(\"SHIBUSDT\", Client.KLINE_INTERVAL_1HOUR, \"5 july 2021\")\n",
        "\n",
        "df = pd.DataFrame(klinesT, columns = ['timestamp', 'open', 'high', 'low', 'close', 'volume', 'close_time', 'quote_av', 'trades', 'tb_base_av', 'tb_quote_av', 'ignore' ])\n",
        "df['close'] = pd.to_numeric(df['close'])\n",
        "df['high'] = pd.to_numeric(df['high'])\n",
        "df['low'] = pd.to_numeric(df['low'])\n",
        "df['open'] = pd.to_numeric(df['open'])\n",
        "\n",
        "del df['ignore']\n",
        "del df['close_time']\n",
        "del df['quote_av']\n",
        "del df['trades']\n",
        "del df['tb_base_av']\n",
        "del df['tb_quote_av']\n",
        "\n",
        "df = df.set_index(df['timestamp'])\n",
        "df.index = pd.to_datetime(df.index, unit='ms')\n",
        "del df['timestamp']\n",
        "print(df)"
      ],
      "execution_count": null,
      "outputs": [
        {
          "output_type": "stream",
          "name": "stdout",
          "text": [
            "                         open      high       low     close           volume\n",
            "timestamp                                                                   \n",
            "2021-07-05 00:00:00  0.000009  0.000009  0.000009  0.000009  768684496583.00\n",
            "2021-07-05 01:00:00  0.000009  0.000009  0.000008  0.000009  499392763076.00\n",
            "2021-07-05 02:00:00  0.000009  0.000009  0.000008  0.000009  387088522257.00\n",
            "2021-07-05 03:00:00  0.000009  0.000009  0.000009  0.000009  346952526488.00\n",
            "2021-07-05 04:00:00  0.000009  0.000009  0.000008  0.000008  764512679053.00\n",
            "...                       ...       ...       ...       ...              ...\n",
            "2021-10-31 04:00:00  0.000066  0.000068  0.000065  0.000067  929822910809.00\n",
            "2021-10-31 05:00:00  0.000067  0.000068  0.000066  0.000066  663190017377.00\n",
            "2021-10-31 06:00:00  0.000066  0.000067  0.000065  0.000067  900571224830.00\n",
            "2021-10-31 07:00:00  0.000067  0.000068  0.000065  0.000065  708692273640.00\n",
            "2021-10-31 08:00:00  0.000065  0.000066  0.000064  0.000064  973819559000.00\n",
            "\n",
            "[2835 rows x 5 columns]\n"
          ]
        }
      ]
    },
    {
      "cell_type": "markdown",
      "metadata": {
        "id": "-1iFHBre2Suk"
      },
      "source": [
        "<h1>Backtest Execution</h1>"
      ]
    },
    {
      "cell_type": "markdown",
      "metadata": {
        "id": "uDzxMm7APl33"
      },
      "source": [
        "Create Indicators"
      ]
    },
    {
      "cell_type": "code",
      "metadata": {
        "colab": {
          "base_uri": "https://localhost:8080/",
          "height": 747
        },
        "id": "VznGtRXG_g_s",
        "outputId": "58cd2802-8b36-4bdf-e253-47ef460d56ef"
      },
      "source": [
        "dfTest = df['2021-09-17':'2021-10-31']\n",
        "\n",
        "# dfTest['histo_macd']=ta.trend.macd_diff(dfTest['close'], 26, 12, 9)\n",
        "dfTest['EMA28']=ta.trend.ema_indicator(dfTest['close'], 28)\n",
        "dfTest['EMA48']=ta.trend.ema_indicator(dfTest['close'], 45)\n",
        "trixLength = 9\n",
        "trixSignal = 21\n",
        "df['TRIX'] = ta.trend.ema_indicator(ta.trend.ema_indicator(ta.trend.ema_indicator(close=df['close'], window=trixLength), window=trixLength), window=trixLength)\n",
        "df['TRIX_PCT'] = df[\"TRIX\"].pct_change()*100\n",
        "df['TRIX_SIGNAL'] = ta.trend.sma_indicator(df['TRIX_PCT'],trixSignal)\n",
        "df['TRIX_HISTO'] = df['TRIX_PCT'] - df['TRIX_SIGNAL']\n",
        "# dfTest['MACD']=ta.trend.macd(dfTest['close'], 26, 12, 9)\n",
        "# dfTest['MACD_SIGNAL']=ta.trend.macd_signal(dfTest['close'], 26, 12, 9)\n",
        "# dfTest['MACD_HISTO']= dfTest['MACD'] - dfTest['MACD_SIGNAL']\n",
        "# dfTest['EMA8']=ta.trend.ema_indicator(dfTest['close'], 8)\n",
        "# dfTest['EMA14']=ta.trend.ema_indicator(dfTest['close'], 14)\n",
        "# dfTest['EMA50']=ta.trend.ema_indicator(dfTest['close'], 50)\n",
        "dfTest['STOCH_RSI']=ta.momentum.stochrsi(dfTest['close'], window=14)\n",
        "# dfTest['MEAN_STOCH_RSI'] = ta.trend.sma_indicator(dfTest['STOCH_RSI'], 3)\n",
        "# dfTest['SIGNAL_MEAN_STOCH_RSI'] = ta.trend.sma_indicator(dfTest['MEAN_STOCH_RSI'], 3)\n",
        "dfTest"
      ],
      "execution_count": null,
      "outputs": [
        {
          "output_type": "stream",
          "name": "stderr",
          "text": [
            "/usr/local/lib/python3.7/dist-packages/ipykernel_launcher.py:4: SettingWithCopyWarning: \n",
            "A value is trying to be set on a copy of a slice from a DataFrame.\n",
            "Try using .loc[row_indexer,col_indexer] = value instead\n",
            "\n",
            "See the caveats in the documentation: https://pandas.pydata.org/pandas-docs/stable/user_guide/indexing.html#returning-a-view-versus-a-copy\n",
            "  after removing the cwd from sys.path.\n",
            "/usr/local/lib/python3.7/dist-packages/ipykernel_launcher.py:5: SettingWithCopyWarning: \n",
            "A value is trying to be set on a copy of a slice from a DataFrame.\n",
            "Try using .loc[row_indexer,col_indexer] = value instead\n",
            "\n",
            "See the caveats in the documentation: https://pandas.pydata.org/pandas-docs/stable/user_guide/indexing.html#returning-a-view-versus-a-copy\n",
            "  \"\"\"\n",
            "/usr/local/lib/python3.7/dist-packages/ipykernel_launcher.py:18: SettingWithCopyWarning: \n",
            "A value is trying to be set on a copy of a slice from a DataFrame.\n",
            "Try using .loc[row_indexer,col_indexer] = value instead\n",
            "\n",
            "See the caveats in the documentation: https://pandas.pydata.org/pandas-docs/stable/user_guide/indexing.html#returning-a-view-versus-a-copy\n"
          ]
        },
        {
          "output_type": "execute_result",
          "data": {
            "text/html": [
              "<div>\n",
              "<style scoped>\n",
              "    .dataframe tbody tr th:only-of-type {\n",
              "        vertical-align: middle;\n",
              "    }\n",
              "\n",
              "    .dataframe tbody tr th {\n",
              "        vertical-align: top;\n",
              "    }\n",
              "\n",
              "    .dataframe thead th {\n",
              "        text-align: right;\n",
              "    }\n",
              "</style>\n",
              "<table border=\"1\" class=\"dataframe\">\n",
              "  <thead>\n",
              "    <tr style=\"text-align: right;\">\n",
              "      <th></th>\n",
              "      <th>open</th>\n",
              "      <th>high</th>\n",
              "      <th>low</th>\n",
              "      <th>close</th>\n",
              "      <th>volume</th>\n",
              "      <th>TRIX</th>\n",
              "      <th>TRIX_PCT</th>\n",
              "      <th>TRIX_SIGNAL</th>\n",
              "      <th>TRIX_HISTO</th>\n",
              "      <th>EMA28</th>\n",
              "      <th>EMA48</th>\n",
              "      <th>STOCH_RSI</th>\n",
              "    </tr>\n",
              "    <tr>\n",
              "      <th>timestamp</th>\n",
              "      <th></th>\n",
              "      <th></th>\n",
              "      <th></th>\n",
              "      <th></th>\n",
              "      <th></th>\n",
              "      <th></th>\n",
              "      <th></th>\n",
              "      <th></th>\n",
              "      <th></th>\n",
              "      <th></th>\n",
              "      <th></th>\n",
              "      <th></th>\n",
              "    </tr>\n",
              "  </thead>\n",
              "  <tbody>\n",
              "    <tr>\n",
              "      <th>2021-09-17 00:00:00</th>\n",
              "      <td>0.000009</td>\n",
              "      <td>0.000009</td>\n",
              "      <td>0.000008</td>\n",
              "      <td>0.000008</td>\n",
              "      <td>3505419169664.00</td>\n",
              "      <td>0.000007</td>\n",
              "      <td>1.386481</td>\n",
              "      <td>0.302179</td>\n",
              "      <td>1.084302</td>\n",
              "      <td>NaN</td>\n",
              "      <td>NaN</td>\n",
              "      <td>NaN</td>\n",
              "    </tr>\n",
              "    <tr>\n",
              "      <th>2021-09-17 01:00:00</th>\n",
              "      <td>0.000008</td>\n",
              "      <td>0.000009</td>\n",
              "      <td>0.000008</td>\n",
              "      <td>0.000009</td>\n",
              "      <td>2444032493712.00</td>\n",
              "      <td>0.000007</td>\n",
              "      <td>1.425861</td>\n",
              "      <td>0.370238</td>\n",
              "      <td>1.055623</td>\n",
              "      <td>NaN</td>\n",
              "      <td>NaN</td>\n",
              "      <td>NaN</td>\n",
              "    </tr>\n",
              "    <tr>\n",
              "      <th>2021-09-17 02:00:00</th>\n",
              "      <td>0.000009</td>\n",
              "      <td>0.000009</td>\n",
              "      <td>0.000009</td>\n",
              "      <td>0.000009</td>\n",
              "      <td>5452136629623.00</td>\n",
              "      <td>0.000007</td>\n",
              "      <td>1.493357</td>\n",
              "      <td>0.441833</td>\n",
              "      <td>1.051524</td>\n",
              "      <td>NaN</td>\n",
              "      <td>NaN</td>\n",
              "      <td>NaN</td>\n",
              "    </tr>\n",
              "    <tr>\n",
              "      <th>2021-09-17 03:00:00</th>\n",
              "      <td>0.000009</td>\n",
              "      <td>0.000009</td>\n",
              "      <td>0.000009</td>\n",
              "      <td>0.000009</td>\n",
              "      <td>6466477821861.00</td>\n",
              "      <td>0.000008</td>\n",
              "      <td>1.550959</td>\n",
              "      <td>0.516223</td>\n",
              "      <td>1.034736</td>\n",
              "      <td>NaN</td>\n",
              "      <td>NaN</td>\n",
              "      <td>NaN</td>\n",
              "    </tr>\n",
              "    <tr>\n",
              "      <th>2021-09-17 04:00:00</th>\n",
              "      <td>0.000009</td>\n",
              "      <td>0.000009</td>\n",
              "      <td>0.000009</td>\n",
              "      <td>0.000009</td>\n",
              "      <td>3138458926301.00</td>\n",
              "      <td>0.000008</td>\n",
              "      <td>1.592556</td>\n",
              "      <td>0.592607</td>\n",
              "      <td>0.999949</td>\n",
              "      <td>NaN</td>\n",
              "      <td>NaN</td>\n",
              "      <td>NaN</td>\n",
              "    </tr>\n",
              "    <tr>\n",
              "      <th>...</th>\n",
              "      <td>...</td>\n",
              "      <td>...</td>\n",
              "      <td>...</td>\n",
              "      <td>...</td>\n",
              "      <td>...</td>\n",
              "      <td>...</td>\n",
              "      <td>...</td>\n",
              "      <td>...</td>\n",
              "      <td>...</td>\n",
              "      <td>...</td>\n",
              "      <td>...</td>\n",
              "      <td>...</td>\n",
              "    </tr>\n",
              "    <tr>\n",
              "      <th>2021-10-31 04:00:00</th>\n",
              "      <td>0.000066</td>\n",
              "      <td>0.000068</td>\n",
              "      <td>0.000065</td>\n",
              "      <td>0.000067</td>\n",
              "      <td>929822910809.00</td>\n",
              "      <td>0.000070</td>\n",
              "      <td>-0.554808</td>\n",
              "      <td>-0.237580</td>\n",
              "      <td>-0.317229</td>\n",
              "      <td>0.000069</td>\n",
              "      <td>0.000070</td>\n",
              "      <td>0.670231</td>\n",
              "    </tr>\n",
              "    <tr>\n",
              "      <th>2021-10-31 05:00:00</th>\n",
              "      <td>0.000067</td>\n",
              "      <td>0.000068</td>\n",
              "      <td>0.000066</td>\n",
              "      <td>0.000066</td>\n",
              "      <td>663190017377.00</td>\n",
              "      <td>0.000069</td>\n",
              "      <td>-0.533493</td>\n",
              "      <td>-0.273315</td>\n",
              "      <td>-0.260179</td>\n",
              "      <td>0.000069</td>\n",
              "      <td>0.000069</td>\n",
              "      <td>0.536448</td>\n",
              "    </tr>\n",
              "    <tr>\n",
              "      <th>2021-10-31 06:00:00</th>\n",
              "      <td>0.000066</td>\n",
              "      <td>0.000067</td>\n",
              "      <td>0.000065</td>\n",
              "      <td>0.000067</td>\n",
              "      <td>900571224830.00</td>\n",
              "      <td>0.000069</td>\n",
              "      <td>-0.492318</td>\n",
              "      <td>-0.305284</td>\n",
              "      <td>-0.187034</td>\n",
              "      <td>0.000069</td>\n",
              "      <td>0.000069</td>\n",
              "      <td>0.863077</td>\n",
              "    </tr>\n",
              "    <tr>\n",
              "      <th>2021-10-31 07:00:00</th>\n",
              "      <td>0.000067</td>\n",
              "      <td>0.000068</td>\n",
              "      <td>0.000065</td>\n",
              "      <td>0.000065</td>\n",
              "      <td>708692273640.00</td>\n",
              "      <td>0.000069</td>\n",
              "      <td>-0.462089</td>\n",
              "      <td>-0.334153</td>\n",
              "      <td>-0.127936</td>\n",
              "      <td>0.000069</td>\n",
              "      <td>0.000069</td>\n",
              "      <td>0.490451</td>\n",
              "    </tr>\n",
              "    <tr>\n",
              "      <th>2021-10-31 08:00:00</th>\n",
              "      <td>0.000065</td>\n",
              "      <td>0.000066</td>\n",
              "      <td>0.000064</td>\n",
              "      <td>0.000064</td>\n",
              "      <td>973819559000.00</td>\n",
              "      <td>0.000068</td>\n",
              "      <td>-0.452216</td>\n",
              "      <td>-0.360769</td>\n",
              "      <td>-0.091447</td>\n",
              "      <td>0.000068</td>\n",
              "      <td>0.000069</td>\n",
              "      <td>0.253970</td>\n",
              "    </tr>\n",
              "  </tbody>\n",
              "</table>\n",
              "<p>1063 rows × 12 columns</p>\n",
              "</div>"
            ],
            "text/plain": [
              "                         open      high  ...     EMA48  STOCH_RSI\n",
              "timestamp                                ...                     \n",
              "2021-09-17 00:00:00  0.000009  0.000009  ...       NaN        NaN\n",
              "2021-09-17 01:00:00  0.000008  0.000009  ...       NaN        NaN\n",
              "2021-09-17 02:00:00  0.000009  0.000009  ...       NaN        NaN\n",
              "2021-09-17 03:00:00  0.000009  0.000009  ...       NaN        NaN\n",
              "2021-09-17 04:00:00  0.000009  0.000009  ...       NaN        NaN\n",
              "...                       ...       ...  ...       ...        ...\n",
              "2021-10-31 04:00:00  0.000066  0.000068  ...  0.000070   0.670231\n",
              "2021-10-31 05:00:00  0.000067  0.000068  ...  0.000069   0.536448\n",
              "2021-10-31 06:00:00  0.000066  0.000067  ...  0.000069   0.863077\n",
              "2021-10-31 07:00:00  0.000067  0.000068  ...  0.000069   0.490451\n",
              "2021-10-31 08:00:00  0.000065  0.000066  ...  0.000069   0.253970\n",
              "\n",
              "[1063 rows x 12 columns]"
            ]
          },
          "metadata": {},
          "execution_count": 329
        }
      ]
    },
    {
      "cell_type": "markdown",
      "metadata": {
        "id": "n6R056JfPpXF"
      },
      "source": [
        "Make backtest"
      ]
    },
    {
      "cell_type": "code",
      "metadata": {
        "id": "q9xE6FZenTyC",
        "colab": {
          "base_uri": "https://localhost:8080/",
          "height": 866
        },
        "outputId": "60f07d7e-c37a-4b11-9afb-0fc1c2725b09"
      },
      "source": [
        "dt = None\n",
        "dt = pd.DataFrame(columns = ['date','position', 'price', 'frais' ,'fiat', 'coins', 'wallet', 'drawBack'])\n",
        "\n",
        "usdt = 1000\n",
        "initalWallet = usdt\n",
        "coin = 0\n",
        "wallet = 1000\n",
        "lastAth = 0\n",
        "lastIndex = df.first_valid_index()\n",
        "fee = 0.0007\n",
        "\n",
        "for index, row in dfTest.iterrows():\n",
        "  #Buy\n",
        "  if row['TRIX_HISTO'] > 0 and row['EMA28'] > row['EMA48'] and row['STOCH_RSI'] < 0.85 and  usdt > 0:\n",
        "    coin = usdt / row['close']\n",
        "    frais = fee * coin\n",
        "    coin = coin - frais\n",
        "    usdt = 0\n",
        "    wallet = coin * row['close']\n",
        "    if wallet > lastAth:\n",
        "      lastAth = wallet\n",
        "    # print(\"Buy COIN at\",df['close'][index],'$ the', index)\n",
        "    myrow = {'date': index,'position': \"Buy\",'price': row['close'],'frais': frais,'fiat': usdt,'coins': coin,'wallet': wallet,'drawBack':(wallet-lastAth)/lastAth}\n",
        "    dt = dt.append(myrow,ignore_index=True)\n",
        "\n",
        "  #Sell\n",
        "  if row['TRIX_HISTO'] < 0 and row['EMA28'] < row['EMA48'] and row['STOCH_RSI'] > 0.2 and coin > 0:\n",
        "    usdt = coin * row['close']\n",
        "    frais = fee * usdt\n",
        "    usdt = usdt - frais\n",
        "    coin = 0\n",
        "    wallet = usdt\n",
        "    if wallet > lastAth:\n",
        "      lastAth = wallet\n",
        "    # print(\"Sell COIN at\",df['close'][index],'$ the', index)\n",
        "    myrow = {'date': index,'position': \"Sell\",'price': row['close'],'frais': frais,'fiat': usdt,'coins': coin,'wallet': wallet,'drawBack':(wallet-lastAth)/lastAth}\n",
        "    dt = dt.append(myrow,ignore_index=True)\n",
        "  \n",
        "  lastIndex = index\n",
        "\n",
        "#///////////////////////////////////////\n",
        "print(\"Period : [\" + str(dfTest.index[0]) + \"] -> [\" +str(dfTest.index[len(dfTest)-1]) + \"]\")\n",
        "dt = dt.set_index(dt['date'])\n",
        "dt.index = pd.to_datetime(dt.index)\n",
        "dt['resultat'] = dt['wallet'].diff()\n",
        "dt['resultat%'] = dt['wallet'].pct_change()*100\n",
        "dt.loc[dt['position']=='Buy','resultat'] = None\n",
        "dt.loc[dt['position']=='Buy','resultat%'] = None\n",
        "\n",
        "dt['tradeIs'] = ''\n",
        "dt.loc[dt['resultat']>0,'tradeIs'] = 'Good'\n",
        "dt.loc[dt['resultat']<=0,'tradeIs'] = 'Bad'\n",
        "totalGoodTrades = dt.groupby('tradeIs')['date'].nunique()['Good']\n",
        "totalBadTrades = dt.groupby('tradeIs')['date'].nunique()['Bad']\n",
        "\n",
        "iniClose = dfTest.iloc[0]['close']\n",
        "lastClose = dfTest.iloc[len(dfTest)-1]['close']\n",
        "holdPorcentage = ((lastClose - iniClose)/iniClose) * 100\n",
        "algoPorcentage = ((wallet - initalWallet)/initalWallet) * 100\n",
        "vsHoldPorcentage = ((algoPorcentage - holdPorcentage)/holdPorcentage) * 100\n",
        "totalTrades = totalBadTrades + totalGoodTrades\n",
        "winRateRatio = (totalGoodTrades/totalTrades) * 100\n",
        "\n",
        "print(\"Starting balance : 1000 $\")\n",
        "print(\"Final balance :\",round(wallet,2),\"$\")\n",
        "print(\"Performance vs US Dollar :\",round(algoPorcentage,2),\"%\")\n",
        "print(\"Buy and Hold Performence :\",round(holdPorcentage,2),\"%\")\n",
        "print(\"Performance vs Buy and Hold :\",round(vsHoldPorcentage,2),\"%\")\n",
        "\n",
        "print(\"Number of negative trades : \",dt.groupby('tradeIs')['date'].nunique()['Bad'])\n",
        "print(\"Number of positive trades : \",dt.groupby('tradeIs')['date'].nunique()['Good'])\n",
        "print(\"Average Positive Trades : \",round(dt.loc[dt['tradeIs'] == 'Good', 'resultat%'].sum()/dt.loc[dt['tradeIs'] == 'Good', 'resultat%'].count(),2),\"%\")\n",
        "print(\"Average Negative Trades : \",round(dt.loc[dt['tradeIs'] == 'Bad', 'resultat%'].sum()/dt.loc[dt['tradeIs'] == 'Bad', 'resultat%'].count(),2),\"%\")\n",
        "idbest = dt.loc[dt['tradeIs'] == 'Good', 'resultat%'].idxmax()\n",
        "idworst = dt.loc[dt['tradeIs'] == 'Bad', 'resultat%'].idxmin()\n",
        "print(\"Best trade +\"+str(round(dt.loc[dt['tradeIs'] == 'Good', 'resultat%'].max(),2)),\"%, the \",dt['date'][idbest])\n",
        "print(\"Worst trade\",round(dt.loc[dt['tradeIs'] == 'Bad', 'resultat%'].min(),2),\"%, the \",dt['date'][idworst])\n",
        "print(\"Worst drawBack\", str(100*round(dt['drawBack'].min(),2)),\"%\")\n",
        "print(\"Total fee : \",round(dt['frais'].sum(),2),\"$\")\n",
        "print(\"Trades win rate ratio :\", round(winRateRatio, 2), \"%\")\n",
        "dt[['wallet','price']].plot(subplots=True, figsize=(12,10))\n",
        "print('PLOT')"
      ],
      "execution_count": null,
      "outputs": [
        {
          "output_type": "stream",
          "name": "stdout",
          "text": [
            "Period : [2021-09-17 00:00:00] -> [2021-10-31 08:00:00]\n",
            "Starting balance : 1000 $\n",
            "Final balance : 8643.15 $\n",
            "Performance vs US Dollar : 764.31 %\n",
            "Buy and Hold Performence : 677.58 %\n",
            "Performance vs Buy and Hold : 12.8 %\n",
            "Number of negative trades :  2\n",
            "Number of positive trades :  3\n",
            "Average Positive Trades :  141.02 %\n",
            "Average Negative Trades :  -2.54 %\n",
            "Best trade +289.57 %, the  2021-10-14 17:00:00\n",
            "Worst trade -3.93 %, the  2021-09-24 14:00:00\n",
            "Worst drawBack -5.0 %\n",
            "Total fee :  464835.71 $\n",
            "Trades win rate ratio : 60.0 %\n",
            "PLOT\n"
          ]
        },
        {
          "output_type": "display_data",
          "data": {
            "image/png": "[encoded data removed]",
            "text/plain": [
              "<Figure size 864x720 with 2 Axes>"
            ]
          },
          "metadata": {
            "needs_background": "light"
          }
        }
      ]
    },
    {
      "cell_type": "markdown",
      "metadata": {
        "id": "CuuQB46p2L6T"
      },
      "source": [
        "<h1>Backtest Result</h1>"
      ]
    },
    {
      "cell_type": "code",
      "metadata": {
        "id": "H6yQzbC2nStj"
      },
      "source": [
        ""
      ],
      "execution_count": null,
      "outputs": []
    }
  ]
}